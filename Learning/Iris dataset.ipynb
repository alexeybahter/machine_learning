{
 "cells": [
  {
   "cell_type": "code",
   "execution_count": 1,
   "metadata": {
    "scrolled": false
   },
   "outputs": [
    {
     "ename": "NameError",
     "evalue": "name 'iris_dataset' is not defined",
     "output_type": "error",
     "traceback": [
      "\u001b[0;31m---------------------------------------------------------------------------\u001b[0m",
      "\u001b[0;31mNameError\u001b[0m                                 Traceback (most recent call last)",
      "\u001b[0;32m<ipython-input-1-7bfe1c591787>\u001b[0m in \u001b[0;36m<module>\u001b[0;34m()\u001b[0m\n\u001b[1;32m     13\u001b[0m \u001b[0;32mfrom\u001b[0m \u001b[0msklearn\u001b[0m\u001b[0;34m.\u001b[0m\u001b[0mmodel_selection\u001b[0m \u001b[0;32mimport\u001b[0m \u001b[0mtrain_test_split\u001b[0m\u001b[0;34m\u001b[0m\u001b[0m\n\u001b[1;32m     14\u001b[0m X_train, X_test, y_train, y_test = train_test_split(\n\u001b[0;32m---> 15\u001b[0;31m  iris_dataset['data'], iris_dataset['target'], random_state=0)\n\u001b[0m\u001b[1;32m     16\u001b[0m \u001b[0;34m\u001b[0m\u001b[0m\n\u001b[1;32m     17\u001b[0m \u001b[0;31m#  посмотреть все даннык об ирисах\u001b[0m\u001b[0;34m\u001b[0m\u001b[0;34m\u001b[0m\u001b[0m\n",
      "\u001b[0;31mNameError\u001b[0m: name 'iris_dataset' is not defined"
     ]
    }
   ],
   "source": [
    "import numpy as np\n",
    "import matplotlib.pyplot as plt\n",
    "%matplotlib inline\n",
    "import pandas as pd\n",
    "from sklearn.datasets import make_blobs\n",
    "# import mglearn\n",
    "from IPython.display import display\n",
    "plt.rc('font', family='Verdana')\n",
    "\n",
    "from sklearn.datasets import load_iris\n",
    "iris_dataset = load_iris()\n",
    "\n",
    "from sklearn.model_selection import train_test_split\n",
    "X_train, X_test, y_train, y_test = train_test_split(\n",
    " iris_dataset['data'], iris_dataset['target'], random_state=0)\n",
    "\n",
    "#  посмотреть все даннык об ирисах\n",
    "# print('data:{}'.format(iris_dataset['data']))\n",
    "\n",
    "# print(\"форма массива X_train: {}\".format(X_train.shape))\n",
    "# print(\"форма массива y_train: {}\".format(y_train.shape), end='\\n--- --- ---\\n')\n",
    "\n",
    "# print(\"форма массива X_test: {}\".format(X_test.shape))\n",
    "# print(\"форма массива y_test: {}\".format(y_test.shape))\n",
    "\n",
    "# # создаем dataframe из данных в массиве X_train\n",
    "# # маркируем столбцы, используя строки в iris_dataset.feature_names\n",
    "# iris_dataframe = pd.DataFrame(X_train, columns=iris_dataset.feature_names)\n",
    "# # создаем матрицу рассеяния из dataframe, цвет точек задаем с помощью y_train\n",
    "# grr = pd.scatter_matrix(iris_dataframe, c=y_train, figsize=(15, 15), marker='o',\n",
    "#  hist_kwds={'bins': 20}, s=60, alpha=.8, cmap=mglearn.cm3)\n",
    "\n",
    "from sklearn.neighbors import KNeighborsClassifier\n",
    "knn = KNeighborsClassifier(n_neighbors=1)\n",
    "\n",
    "knn.fit(X_train, y_train)\n",
    "\n",
    "# новый ирис для которго будем прогнозировать его вид\n",
    "X_new = np.array([[6.9, 2.9, 5, 1.2]])\n",
    "\n",
    "X, y = make_blobs(centers=4, random_state=42)\n",
    "y = y % 2\n",
    "\n",
    "# fig = plt.figure()\n",
    "fig1 = plt.scatter(X[:, 0], X[:, 1], y)\n",
    "# cc = plt.contourf(X_train) \n",
    "# cbar = plt.colorbar(cc)\n",
    "# plt.fill()\n",
    "grid1 = plt.grid(True) \n",
    "plt.xlabel(\"Признак 0\")\n",
    "plt.ylabel(\"Признак 1\")\n",
    "x=plt.legend([\"Класс 0\", \"Класс 1\", \"Класс 2\"])\n",
    "\n",
    "print('kiugyftg',x)\n",
    "# plt.title('1. TITLE', color='green')\n",
    "# plt.xlabel('2. X - LABEL')\n",
    "# plt.ylabel('3. Y - LABEL', fontsize=16)\n",
    "\n",
    "\n",
    "# совершаем прогноз нового ириса\n",
    "prediction = knn.predict(X_new)\n",
    "# print(\"Прогноз: {}\".format(prediction))\n",
    "# print(\"Спрогнозированная метка: {}\".format(iris_dataset['target_names'][prediction]))\n",
    "\n",
    "y_pred = knn.predict(X_test)\n",
    "# print(\"Правильность на тестовом наборе: {:.2f}\".format(np.mean(y_pred == y_test)))\n",
    "# print(\"Правильность на тестовом наборе: {:.2f}\".format(knn.score(X_test, y_test)))"
   ]
  },
  {
   "cell_type": "code",
   "execution_count": 5,
   "metadata": {},
   "outputs": [
    {
     "name": "stdout",
     "output_type": "stream",
     "text": [
      "dict_keys([12, 45])\n"
     ]
    }
   ],
   "source": [
    "arr = {12:23,45:67}\n",
    "arr[12]\n",
    "print(arr.keys())"
   ]
  },
  {
   "cell_type": "code",
   "execution_count": null,
   "metadata": {},
   "outputs": [],
   "source": []
  }
 ],
 "metadata": {
  "kernelspec": {
   "display_name": "Python 3",
   "language": "python",
   "name": "python3"
  },
  "language_info": {
   "codemirror_mode": {
    "name": "ipython",
    "version": 3
   },
   "file_extension": ".py",
   "mimetype": "text/x-python",
   "name": "python",
   "nbconvert_exporter": "python",
   "pygments_lexer": "ipython3",
   "version": "3.6.3"
  }
 },
 "nbformat": 4,
 "nbformat_minor": 2
}
