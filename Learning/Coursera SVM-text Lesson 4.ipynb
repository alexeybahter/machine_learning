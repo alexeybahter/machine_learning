{
 "cells": [
  {
   "cell_type": "code",
   "execution_count": null,
   "metadata": {},
   "outputs": [],
   "source": [
    "import pandas\n",
    "import numpy as np\n",
    "from sklearn import datasets, grid_search\n",
    "from sklearn.svm import SVC\n",
    "from sklearn.feature_extraction.text import TfidfVectorizer\n",
    "from sklearn.cross_validation import KFold\n",
    "\n",
    "newsgroups = datasets.fetch_20newsgroups(\n",
    "                    subset='all', \n",
    "                    categories=['alt.atheism', 'sci.space']\n",
    "             )\n",
    "\n",
    "X = newsgroups.data\n",
    "y = newsgroups.target\n",
    "\n",
    "# vectorizer = TfidfVectorizer()\n",
    "# vectorizer.fit_transform(X)\n",
    "\n",
    "# feature_mapping = vectorizer.get_feature_names()\n",
    "# print(feature_mapping[i])\n",
    "\n",
    "# grid = {'C': np.power(10.0, np.arange(-5, 6))}\n",
    "# cv = KFold(y.size, n_folds=5, shuffle=True, random_state=241)\n",
    "# clf = svm.SVC(kernel='linear', random_state=241)\n",
    "# gs = GridSearchCV(clf, grid, scoring='accuracy', cv=cv)\n",
    "# gs.fit(X, y)\n",
    "\n",
    "newsgroups.head()\n",
    "grid = {'C': np.power(10.0, np.arange(-5, 6))}\n",
    "cv = KFold(y.size, n_folds=5, shuffle=True, random_state=241)\n",
    "model = SVC(kernel='linear', random_state=241)\n",
    "gs = grid_search.GridSearchCV(model, grid, scoring='accuracy', cv=cv)\n",
    "gs.fit(vectorizer.transform(X), y)\n",
    "\n",
    "score = 0\n",
    "C = 0\n",
    "for attempt in gs.grid_scores_:\n",
    "    if attempt.mean_validation_score > score:\n",
    "        score = attempt.mean_validation_score\n",
    "        C = attempt.parameters['C']\n",
    "\n",
    "# 4. Обучите SVM по всей выборке с оптимальным параметром C, найденным на предыдущем шаге.\n",
    "\n",
    "model = SVC(kernel='linear', random_state=241, C=C)\n",
    "model.fit(vectorizer.transform(X), y)\n",
    "\n",
    "# 5. Найдите 10 слов с наибольшим по модулю весом. Они являются ответом на это задание. Укажите их через запятую или\n",
    "# пробел, в нижнем регистре, в лексикографическом порядке.\n",
    "\n",
    "words = vectorizer.get_feature_names()\n",
    "coef = pandas.DataFrame(model.coef_.data, model.coef_.indices)\n",
    "top_words = coef[0].map(lambda w: abs(w)).sort_values(ascending=False).head(10).index.map(lambda i: words[i])\n",
    "top_words.sort()\n",
    "print(','.join(top_words))"
   ]
  },
  {
   "cell_type": "code",
   "execution_count": null,
   "metadata": {},
   "outputs": [],
   "source": []
  }
 ],
 "metadata": {
  "kernelspec": {
   "display_name": "Python 3",
   "language": "python",
   "name": "python3"
  },
  "language_info": {
   "codemirror_mode": {
    "name": "ipython",
    "version": 3
   },
   "file_extension": ".py",
   "mimetype": "text/x-python",
   "name": "python",
   "nbconvert_exporter": "python",
   "pygments_lexer": "ipython3",
   "version": "3.6.3"
  }
 },
 "nbformat": 4,
 "nbformat_minor": 2
}
