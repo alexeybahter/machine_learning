{
 "cells": [
  {
   "cell_type": "code",
   "execution_count": 66,
   "metadata": {},
   "outputs": [
    {
     "name": "stdout",
     "output_type": "stream",
     "text": [
      "0.7033333333333334\n",
      "0.845\n",
      "0.18999999999999995\n"
     ]
    },
    {
     "name": "stderr",
     "output_type": "stream",
     "text": [
      "/anaconda3/lib/python3.6/site-packages/sklearn/linear_model/stochastic_gradient.py:128: FutureWarning: max_iter and tol parameters have been added in <class 'sklearn.linear_model.perceptron.Perceptron'> in 0.19. If both are left unset, they default to max_iter=5 and tol=None. If tol is not None, max_iter defaults to max_iter=1000. From 0.21, default max_iter will be 1000, and default tol will be 1e-3.\n",
      "  \"and default tol will be 1e-3.\" % type(self), FutureWarning)\n"
     ]
    }
   ],
   "source": [
    "# Coursera Perceptron Lesson 3\n",
    "import pandas as pd\n",
    "import numpy as np\n",
    "from sklearn.linear_model import Perceptron\n",
    "from sklearn.metrics import accuracy_score\n",
    "from sklearn.preprocessing import StandardScaler\n",
    "\n",
    "df_train = pd.read_csv('./input/perceptron-train.csv', header=None)\n",
    "y_train = df_train[0]\n",
    "X_train = df_train.loc[:, 1:]\n",
    "\n",
    "df_test = pd.read_csv('./input/perceptron-test.csv', header=None)\n",
    "y_test = df_test[0]\n",
    "X_test = df_test.loc[:, 1:]\n",
    "\n",
    "model = Perceptron(random_state=241)\n",
    "x1 = model.fit(X_train, y_train)\n",
    "\n",
    "accuracy_score_train = accuracy_score(y_train, model.predict(X_train))\n",
    "acc_before = accuracy_score(y_test, model.predict(X_test))\n",
    "print(accuracy_score_train)\n",
    "\n",
    "scaler = StandardScaler()\n",
    "X_train_scaled = scaler.fit_transform(X_train)\n",
    "X_test_scaled = scaler.transform(X_test)\n",
    "\n",
    "model = Perceptron(random_state=241)\n",
    "x1 = model.fit(X_train_scaled, y_train)\n",
    "\n",
    "accuracy_score_test = accuracy_score(y_test, model.predict(X_test_scaled))\n",
    "print(accuracy_score_test)\n",
    "print(accuracy_score_test-acc_before)"
   ]
  },
  {
   "cell_type": "code",
   "execution_count": 72,
   "metadata": {},
   "outputs": [
    {
     "name": "stdout",
     "output_type": "stream",
     "text": [
      "0.7733333333333333 0.42333333333333334\n"
     ]
    }
   ],
   "source": [
    "import pandas\n",
    "from sklearn.linear_model import Perceptron\n",
    "from sklearn.metrics import accuracy_score\n",
    "from sklearn.preprocessing import StandardScaler\n",
    "\n",
    "import sys\n",
    "# sys.path.append(\"..\")\n",
    "# from shad_util import print_answer\n",
    "\n",
    "# 1. Загрузите обучающую и тестовую выборки из файлов perceptron-train.csv и perceptron-test.csv.\n",
    "# Целевая переменная записана в первом столбце, признаки — во втором и третьем.\n",
    "\n",
    "df_train = pandas.read_csv('./input/perceptron-train.csv', header=None)\n",
    "y_train = df_train[0]\n",
    "X_train = df_train.loc[:, 1:]\n",
    "\n",
    "df_test = pandas.read_csv('./input/perceptron-test.csv', header=None)\n",
    "y_test = df_train[0]\n",
    "X_test = df_train.loc[:, 1:]\n",
    "\n",
    "# 2. Обучите персептрон со стандартными параметрами и random_state=241.\n",
    "\n",
    "model = Perceptron(max_iter = 5000, random_state=241)\n",
    "model.fit(X_train, y_train)\n",
    "\n",
    "# 3. Подсчитайте качество (долю правильно классифицированных объектов, accuracy) полученного классификатора\n",
    "# на тестовой выборке.\n",
    "\n",
    "acc_before = accuracy_score(y_test, model.predict(X_test))\n",
    "\n",
    "# 4. Нормализуйте обучающую и тестовую выборку с помощью класса StandardScaler.\n",
    "\n",
    "scaler = StandardScaler()\n",
    "X_train_scaled = scaler.fit_transform(X_train)\n",
    "X_test_scaled = scaler.transform(X_test)\n",
    "\n",
    "# 5. Обучите персептрон на новых выборках. Найдите долю правильных ответов на тестовой выборке.\n",
    "\n",
    "model = Perceptron(max_iter = 5000, random_state=241)\n",
    "model.fit(X_train_scaled, y_train)\n",
    "acc_after = accuracy_score(y_test, model.predict(X_test_scaled))\n",
    "\n",
    "# 6. Найдите разность между качеством на тестовой выборке после нормализации и качеством до нее.\n",
    "# Это число и будет ответом на задание.\n",
    "\n",
    "print(acc_after, acc_before)"
   ]
  },
  {
   "cell_type": "code",
   "execution_count": null,
   "metadata": {},
   "outputs": [],
   "source": []
  }
 ],
 "metadata": {
  "kernelspec": {
   "display_name": "Python 3",
   "language": "python",
   "name": "python3"
  },
  "language_info": {
   "codemirror_mode": {
    "name": "ipython",
    "version": 3
   },
   "file_extension": ".py",
   "mimetype": "text/x-python",
   "name": "python",
   "nbconvert_exporter": "python",
   "pygments_lexer": "ipython3",
   "version": "3.6.3"
  }
 },
 "nbformat": 4,
 "nbformat_minor": 2
}
