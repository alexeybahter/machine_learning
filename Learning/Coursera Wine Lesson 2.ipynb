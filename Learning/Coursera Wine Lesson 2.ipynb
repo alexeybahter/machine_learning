{
 "cells": [
  {
   "cell_type": "code",
   "execution_count": 61,
   "metadata": {},
   "outputs": [
    {
     "name": "stdout",
     "output_type": "stream",
     "text": [
      "1 1\n",
      "2 0.7304761904761905\n",
      "3 29\n",
      "4 0.9776190476190475\n"
     ]
    }
   ],
   "source": [
    "import pandas\n",
    "import sklearn\n",
    "from sklearn.cross_validation import KFold, cross_val_score\n",
    "from sklearn.neighbors import KNeighborsClassifier\n",
    "\n",
    "train_df = pd.read_csv('./input/wine.data', header=None)\n",
    "\n",
    "y = train_df[0]\n",
    "X = train_df.loc[:,1:]\n",
    "# print(y)\n",
    "# print(train_df)\n",
    "kf = KFold(len(y), n_folds=5, shuffle=True, random_state=42)\n",
    "\n",
    "def test_accuracy(kf, X, y):\n",
    "    scores = list()\n",
    "    k_range = range(1, 51)\n",
    "    for k in k_range:\n",
    "        model = KNeighborsClassifier(n_neighbors=k)\n",
    "        scores.append(cross_val_score(model, X, y, cv=kf, scoring='accuracy'))\n",
    "\n",
    "    return pandas.DataFrame(scores, k_range).mean(axis=1).sort_values(ascending=False)\n",
    "\n",
    "\n",
    "accuracy = test_accuracy(kf, X, y)\n",
    "top_accuracy = accuracy.head(1)\n",
    "\n",
    "print(1, top_accuracy.index[0])\n",
    "print(2, top_accuracy.values[0])\n",
    "\n",
    "X = sklearn.preprocessing.scale(X)\n",
    "accuracy = test_accuracy(kf, X, y)\n",
    "\n",
    "top_accuracy = accuracy.head(1)\n",
    "print(3, top_accuracy.index[0])\n",
    "print(4, top_accuracy.values[0])"
   ]
  },
  {
   "cell_type": "code",
   "execution_count": null,
   "metadata": {},
   "outputs": [],
   "source": []
  }
 ],
 "metadata": {
  "kernelspec": {
   "display_name": "Python 3",
   "language": "python",
   "name": "python3"
  },
  "language_info": {
   "codemirror_mode": {
    "name": "ipython",
    "version": 3
   },
   "file_extension": ".py",
   "mimetype": "text/x-python",
   "name": "python",
   "nbconvert_exporter": "python",
   "pygments_lexer": "ipython3",
   "version": "3.6.3"
  }
 },
 "nbformat": 4,
 "nbformat_minor": 2
}
