{
 "cells": [
  {
   "cell_type": "code",
   "execution_count": 43,
   "metadata": {},
   "outputs": [
    {
     "name": "stdout",
     "output_type": "stream",
     "text": [
      "x\n",
      " [[15.84528088 20.54896853]\n",
      " [14.29923759 20.18911223]\n",
      " [14.78269094 13.1441728 ]]\n",
      "\n",
      "x_mean\n",
      " [14.97573647 17.96075119]\n",
      "\n",
      "x_std\n",
      " [0.64576177 3.40900226]\n",
      "\n",
      "result\n",
      " [[ 1.34654055  0.75923016]\n",
      " [-1.04759822  0.65366957]\n",
      " [-0.29894233 -1.41289973]]\n"
     ]
    }
   ],
   "source": [
    "# «Машинное обучение и анализ данных» на Coursera\n",
    "import numpy as np\n",
    "x = np.random.normal(loc=15, scale=10, size=(3, 2))\n",
    "print('x\\n', x, end='\\n\\n')\n",
    "\n",
    "x_mean = np.mean(x, axis=0)\n",
    "print('x_mean\\n', x_mean, end='\\n\\n')\n",
    "x_std = np.std(x, axis=0)\n",
    "print('x_std\\n', x_std, end='\\n\\n')\n",
    "\n",
    "\n",
    "result = (x - x_mean) / x_std\n",
    "print('result\\n' ,result)"
   ]
  },
  {
   "cell_type": "code",
   "execution_count": 45,
   "metadata": {},
   "outputs": [],
   "source": [
    "z = np.array([[4, 5, 0], \n",
    "             [1, 9, 3],              \n",
    "             [5, 1, 1],\n",
    "             [3, 3, 3], \n",
    "             [9, 9, 9], \n",
    "             [4, 7, 1]])"
   ]
  },
  {
   "cell_type": "code",
   "execution_count": 48,
   "metadata": {},
   "outputs": [
    {
     "name": "stdout",
     "output_type": "stream",
     "text": [
      "z_sum_over_10\n",
      " [ 9 13  7  9 27 12]\n"
     ]
    },
    {
     "data": {
      "text/plain": [
       "(array([1, 4, 5]),)"
      ]
     },
     "execution_count": 48,
     "metadata": {},
     "output_type": "execute_result"
    }
   ],
   "source": [
    "z_sum_over_10 = np.sum(z, axis=1)\n",
    "print('z_sum_over_10\\n', z_sum_over_10)\n",
    "np.nonzero(z_sum_over_10 > 10)"
   ]
  },
  {
   "cell_type": "code",
   "execution_count": 54,
   "metadata": {},
   "outputs": [
    {
     "name": "stdout",
     "output_type": "stream",
     "text": [
      "[[1. 0. 0.]\n",
      " [0. 1. 0.]\n",
      " [0. 0. 1.]]\n",
      "\n",
      " [[1. 0. 0.]\n",
      " [0. 1. 0.]\n",
      " [0. 0. 1.]\n",
      " [0. 0. 0.]\n",
      " [0. 0. 0.]\n",
      " [0. 0. 0.]]\n"
     ]
    },
    {
     "data": {
      "text/plain": [
       "array([[1., 0., 0.],\n",
       "       [0., 1., 0.],\n",
       "       [0., 0., 1.],\n",
       "       [1., 0., 0.],\n",
       "       [0., 1., 0.],\n",
       "       [0., 0., 1.],\n",
       "       [0., 0., 0.],\n",
       "       [0., 0., 0.],\n",
       "       [0., 0., 0.]])"
      ]
     },
     "execution_count": 54,
     "metadata": {},
     "output_type": "execute_result"
    }
   ],
   "source": [
    "a = np.eye(3,3)\n",
    "print(a)\n",
    "b = np.eye(6,3)\n",
    "print('\\n',b)\n",
    "np.vstack((a, b))"
   ]
  },
  {
   "cell_type": "code",
   "execution_count": null,
   "metadata": {},
   "outputs": [],
   "source": []
  }
 ],
 "metadata": {
  "kernelspec": {
   "display_name": "Python 3",
   "language": "python",
   "name": "python3"
  },
  "language_info": {
   "codemirror_mode": {
    "name": "ipython",
    "version": 3
   },
   "file_extension": ".py",
   "mimetype": "text/x-python",
   "name": "python",
   "nbconvert_exporter": "python",
   "pygments_lexer": "ipython3",
   "version": "3.6.4"
  }
 },
 "nbformat": 4,
 "nbformat_minor": 2
}
