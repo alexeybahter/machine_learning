{
 "cells": [
  {
   "cell_type": "code",
   "execution_count": 33,
   "metadata": {},
   "outputs": [
    {
     "name": "stdout",
     "output_type": "stream",
     "text": [
      "4 5 10\n"
     ]
    }
   ],
   "source": [
    "import pandas as pd\n",
    "import sklearn\n",
    "from sklearn.svm import SVC\n",
    "import matplotlib.pyplot as plt\n",
    "\n",
    "data = pd.read_csv('./input/svm-data.csv', header=None)\n",
    "y_train = data[0]\n",
    "X_train = data.loc[:, 1:]\n",
    "X_train.head()\n",
    "\n",
    "model = SVC(C=100000, random_state=241)\n",
    "# print(model)\n",
    "# обучаем нашу модель опорных векторов\n",
    "model.fit(X_train, y_train)\n",
    "# берем индексы элементов по которым построились опорные вектора\n",
    "index_sv = model.support_\n",
    "print(' '.join([str(index + 1) for index in index_sv]))\n",
    "# accuracy_score_train = accuracy_score(y_train, model.predict(X_train))\n",
    "# print(accuracy_score_train)\n",
    "# data[1].value_counts().sort_index().plot.bar()"
   ]
  },
  {
   "cell_type": "code",
   "execution_count": null,
   "metadata": {},
   "outputs": [],
   "source": []
  }
 ],
 "metadata": {
  "kernelspec": {
   "display_name": "Python 3",
   "language": "python",
   "name": "python3"
  },
  "language_info": {
   "codemirror_mode": {
    "name": "ipython",
    "version": 3
   },
   "file_extension": ".py",
   "mimetype": "text/x-python",
   "name": "python",
   "nbconvert_exporter": "python",
   "pygments_lexer": "ipython3",
   "version": "3.6.3"
  }
 },
 "nbformat": 4,
 "nbformat_minor": 2
}
