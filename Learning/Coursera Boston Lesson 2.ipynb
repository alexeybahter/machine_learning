{
 "cells": [
  {
   "cell_type": "code",
   "execution_count": 31,
   "metadata": {},
   "outputs": [
    {
     "name": "stdout",
     "output_type": "stream",
     "text": [
      "1.135678   -11.836924\n",
      "dtype: float64\n"
     ]
    }
   ],
   "source": [
    "import pandas\n",
    "import sklearn\n",
    "from numpy import linspace\n",
    "from sklearn.datasets import load_boston\n",
    "from sklearn.cross_validation import KFold, cross_val_score\n",
    "from sklearn.neighbors import KNeighborsRegressor\n",
    "from sklearn.preprocessing import scale\n",
    "\n",
    "\n",
    "boston = load_boston()\n",
    "X = boston.data\n",
    "y = boston.target\n",
    "# print(X, end='\\n\\n')\n",
    "X = scale(X)\n",
    "# print(X)\n",
    "\n",
    "kf = KFold(len(y), n_folds=5, shuffle=True, random_state=42)\n",
    "\n",
    "def test_accuracy(kf, X, y):\n",
    "    scores = list()\n",
    "    p_range = linspace(1, 10, 200)\n",
    "    for p in p_range:\n",
    "        model = KNeighborsRegressor(p=p, n_neighbors=5, weights='distance')\n",
    "        scores.append(cross_val_score(model, X, y, cv=kf, scoring='neg_mean_squared_error'))\n",
    "\n",
    "    return pandas.DataFrame(scores, p_range).max(axis=1).sort_values(ascending=False)\n",
    "\n",
    "accuracy = test_accuracy(kf, X, y)\n",
    "top_accuracy = accuracy.head(1)\n",
    "\n",
    "print(top_accuracy)\n",
    "\n",
    "# linspace(1, 10, step=0.05)"
   ]
  },
  {
   "cell_type": "code",
   "execution_count": null,
   "metadata": {},
   "outputs": [],
   "source": []
  }
 ],
 "metadata": {
  "kernelspec": {
   "display_name": "Python 3",
   "language": "python",
   "name": "python3"
  },
  "language_info": {
   "codemirror_mode": {
    "name": "ipython",
    "version": 3
   },
   "file_extension": ".py",
   "mimetype": "text/x-python",
   "name": "python",
   "nbconvert_exporter": "python",
   "pygments_lexer": "ipython3",
   "version": "3.6.3"
  }
 },
 "nbformat": 4,
 "nbformat_minor": 2
}
